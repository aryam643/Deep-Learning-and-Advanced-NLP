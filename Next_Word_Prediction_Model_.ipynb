{
  "nbformat": 4,
  "nbformat_minor": 0,
  "metadata": {
    "colab": {
      "provenance": []
    },
    "kernelspec": {
      "name": "python3",
      "display_name": "Python 3"
    },
    "language_info": {
      "name": "python"
    }
  },
  "cells": [
    {
      "cell_type": "code",
      "execution_count": 7,
      "metadata": {
        "id": "hgFyRtKk73Id"
      },
      "outputs": [],
      "source": [
        "import numpy as np\n",
        "import tensorflow as tf\n",
        "from tensorflow.keras.preprocessing.text import Tokenizer\n",
        "from tensorflow.keras.preprocessing.sequence import pad_sequences\n",
        "from tensorflow.keras.models import Sequential\n",
        "from tensorflow.keras.layers import Embedding, LSTM, Dense\n",
        "\n",
        "# Read the text file\n",
        "with open('/content/sherlock-holm.es_stories_plain-text_advs.txt', 'r', encoding='utf-8') as file:\n",
        "    text = file.read()"
      ]
    },
    {
      "cell_type": "code",
      "source": [
        "tokenizer = Tokenizer()\n",
        "tokenizer.fit_on_texts([text])\n",
        "total_words = len(tokenizer.word_index) + 1"
      ],
      "metadata": {
        "id": "Q8oDo2ut8ujl"
      },
      "execution_count": 8,
      "outputs": []
    },
    {
      "cell_type": "code",
      "source": [
        "input_sequences = []\n",
        "for line in text.split('\\n'):\n",
        "    token_list = tokenizer.texts_to_sequences([line])[0]\n",
        "    for i in range(1, len(token_list)):\n",
        "        n_gram_sequence = token_list[:i+1]\n",
        "        input_sequences.append(n_gram_sequence)"
      ],
      "metadata": {
        "id": "gBHbAHoi8yys"
      },
      "execution_count": 9,
      "outputs": []
    },
    {
      "cell_type": "code",
      "source": [
        "max_sequence_len = max([len(seq) for seq in input_sequences])\n",
        "input_sequences = np.array(pad_sequences(input_sequences, maxlen=max_sequence_len, padding='pre'))"
      ],
      "metadata": {
        "id": "NDkEAmQD8019"
      },
      "execution_count": 10,
      "outputs": []
    },
    {
      "cell_type": "code",
      "source": [
        "X = input_sequences[:, :-1]\n",
        "y = input_sequences[:, -1]"
      ],
      "metadata": {
        "id": "_yQwLsjk82Eu"
      },
      "execution_count": 11,
      "outputs": []
    },
    {
      "cell_type": "code",
      "source": [
        "y = np.array(tf.keras.utils.to_categorical(y, num_classes=total_words))"
      ],
      "metadata": {
        "id": "4NiTMfud83Ne"
      },
      "execution_count": 12,
      "outputs": []
    },
    {
      "cell_type": "code",
      "source": [
        "model = Sequential()\n",
        "model.add(Embedding(total_words, 100, input_length=max_sequence_len-1))\n",
        "model.add(LSTM(150))\n",
        "model.add(Dense(total_words, activation='softmax'))\n",
        "print(model.summary())"
      ],
      "metadata": {
        "colab": {
          "base_uri": "https://localhost:8080/"
        },
        "id": "rCUgfzR184d6",
        "outputId": "fa6faf94-c762-4fdb-b44a-ae770e1f4a2e"
      },
      "execution_count": 13,
      "outputs": [
        {
          "output_type": "stream",
          "name": "stdout",
          "text": [
            "Model: \"sequential\"\n",
            "_________________________________________________________________\n",
            " Layer (type)                Output Shape              Param #   \n",
            "=================================================================\n",
            " embedding (Embedding)       (None, 17, 100)           820000    \n",
            "                                                                 \n",
            " lstm (LSTM)                 (None, 150)               150600    \n",
            "                                                                 \n",
            " dense (Dense)               (None, 8200)              1238200   \n",
            "                                                                 \n",
            "=================================================================\n",
            "Total params: 2208800 (8.43 MB)\n",
            "Trainable params: 2208800 (8.43 MB)\n",
            "Non-trainable params: 0 (0.00 Byte)\n",
            "_________________________________________________________________\n",
            "None\n"
          ]
        }
      ]
    },
    {
      "cell_type": "code",
      "source": [
        "model.compile(loss='categorical_crossentropy', optimizer='adam', metrics=['accuracy'])\n",
        "model.fit(X, y, epochs=100, verbose=1)"
      ],
      "metadata": {
        "colab": {
          "base_uri": "https://localhost:8080/"
        },
        "id": "qNpncyDu9Axy",
        "outputId": "9c21767d-bc60-41ff-9f18-94a7a7ee1b67",
        "collapsed": true
      },
      "execution_count": null,
      "outputs": [
        {
          "output_type": "stream",
          "name": "stdout",
          "text": [
            "Epoch 1/100\n",
            "3010/3010 [==============================] - 205s 67ms/step - loss: 6.2576 - accuracy: 0.0744\n",
            "Epoch 2/100\n",
            "3010/3010 [==============================] - 199s 66ms/step - loss: 5.5113 - accuracy: 0.1236\n",
            "Epoch 3/100\n",
            "3010/3010 [==============================] - 201s 67ms/step - loss: 5.1160 - accuracy: 0.1479\n",
            "Epoch 4/100\n",
            "3010/3010 [==============================] - 193s 64ms/step - loss: 4.7851 - accuracy: 0.1659\n",
            "Epoch 5/100\n",
            "3010/3010 [==============================] - 204s 68ms/step - loss: 4.4806 - accuracy: 0.1832\n",
            "Epoch 6/100\n",
            "3010/3010 [==============================] - 202s 67ms/step - loss: 4.1971 - accuracy: 0.2021\n",
            "Epoch 7/100\n",
            "3010/3010 [==============================] - 214s 71ms/step - loss: 3.9260 - accuracy: 0.2275\n",
            "Epoch 8/100\n",
            "3010/3010 [==============================] - 209s 69ms/step - loss: 3.6688 - accuracy: 0.2584\n",
            "Epoch 9/100\n",
            "3010/3010 [==============================] - 208s 69ms/step - loss: 3.4275 - accuracy: 0.2905\n",
            "Epoch 10/100\n",
            "3010/3010 [==============================] - 209s 69ms/step - loss: 3.2005 - accuracy: 0.3245\n",
            "Epoch 11/100\n",
            "3010/3010 [==============================] - 200s 66ms/step - loss: 2.9897 - accuracy: 0.3593\n",
            "Epoch 12/100\n",
            "3010/3010 [==============================] - 199s 66ms/step - loss: 2.7983 - accuracy: 0.3926\n",
            "Epoch 13/100\n",
            "3010/3010 [==============================] - 196s 65ms/step - loss: 2.6185 - accuracy: 0.4284\n",
            "Epoch 14/100\n",
            "3010/3010 [==============================] - 192s 64ms/step - loss: 2.4546 - accuracy: 0.4595\n",
            "Epoch 15/100\n",
            "3010/3010 [==============================] - 194s 64ms/step - loss: 2.3045 - accuracy: 0.4886\n",
            "Epoch 16/100\n",
            "3010/3010 [==============================] - 195s 65ms/step - loss: 2.1667 - accuracy: 0.5183\n",
            "Epoch 17/100\n",
            "3010/3010 [==============================] - 193s 64ms/step - loss: 2.0402 - accuracy: 0.5449\n",
            "Epoch 18/100\n",
            "3010/3010 [==============================] - 194s 64ms/step - loss: 1.9248 - accuracy: 0.5690\n",
            "Epoch 19/100\n",
            "1172/3010 [==========>...................] - ETA: 1:58 - loss: 1.6965 - accuracy: 0.6231"
          ]
        }
      ]
    },
    {
      "cell_type": "code",
      "source": [
        "seed_text = \"I will leave if they\"\n",
        "next_words = 3\n",
        "\n",
        "for _ in range(next_words):\n",
        "    token_list = tokenizer.texts_to_sequences([seed_text])[0]\n",
        "    token_list = pad_sequences([token_list], maxlen=max_sequence_len-1, padding='pre')\n",
        "    predicted = np.argmax(model.predict(token_list), axis=-1)\n",
        "    output_word = \"\"\n",
        "    for word, index in tokenizer.word_index.items():\n",
        "        if index == predicted:\n",
        "            output_word = word\n",
        "            break\n",
        "    seed_text += \" \" + output_word\n",
        "\n",
        "print(seed_text)"
      ],
      "metadata": {
        "id": "EnRTwH_49CYy"
      },
      "execution_count": null,
      "outputs": []
    }
  ]
}